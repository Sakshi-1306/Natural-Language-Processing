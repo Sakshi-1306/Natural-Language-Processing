{
  "nbformat": 4,
  "nbformat_minor": 0,
  "metadata": {
    "colab": {
      "provenance": [],
      "include_colab_link": true
    },
    "kernelspec": {
      "name": "python3",
      "display_name": "Python 3"
    },
    "language_info": {
      "name": "python"
    }
  },
  "cells": [
    {
      "cell_type": "markdown",
      "metadata": {
        "id": "view-in-github",
        "colab_type": "text"
      },
      "source": [
        "<a href=\"https://colab.research.google.com/github/Sakshi-1306/Natural-Language-Processing/blob/master/Aspect_Mining_Sakshi_NLP_.ipynb\" target=\"_parent\"><img src=\"https://colab.research.google.com/assets/colab-badge.svg\" alt=\"Open In Colab\"/></a>"
      ]
    },
    {
      "cell_type": "code",
      "execution_count": null,
      "metadata": {
        "colab": {
          "base_uri": "https://localhost:8080/"
        },
        "id": "icOO1h_3_OB1",
        "outputId": "ce0664f9-9874-4a49-b172-29f8832bc793"
      },
      "outputs": [
        {
          "output_type": "stream",
          "name": "stdout",
          "text": [
            "ASPECT EXTRACTION\n",
            "\n",
            "[{'aspect': 'cake', 'description': 'really tasty'}, {'aspect': 'party', 'description': 'amazing'}, {'aspect': 'mom', 'description': 'best'}, {'aspect': 'trip', 'description': 'very enjoyable'}]\n",
            "\n",
            "\n",
            "SENTIMENT ASSOCIATION\n",
            "\n",
            "[{'aspect': 'cake', 'description': 'really tasty', 'sentiment': Sentiment(polarity=0.2, subjectivity=0.2)}, {'aspect': 'party', 'description': 'amazing', 'sentiment': Sentiment(polarity=0.6000000000000001, subjectivity=0.9)}, {'aspect': 'mom', 'description': 'best', 'sentiment': Sentiment(polarity=1.0, subjectivity=0.3)}, {'aspect': 'trip', 'description': 'very enjoyable', 'sentiment': Sentiment(polarity=0.65, subjectivity=0.78)}]\n"
          ]
        }
      ],
      "source": [
        "import spacy\n",
        "sp = spacy.load(\"en_core_web_sm\")\n",
        "from textblob import TextBlob # for textual data\n",
        "\n",
        "# Creating a list of positive and negative sentences.\n",
        "mixed_sen = [\n",
        "  'This chocolate truffle cake is really tasty',\n",
        "  'This party is amazing!',\n",
        "  'My mom is the best!',\n",
        "  'App response is very slow!'\n",
        "  'The trip to India was very enjoyable'\n",
        "]\n",
        "\n",
        "ext_aspects = []\n",
        "# Performing Aspect Extraction\n",
        "for sen in mixed_sen:\n",
        "  important = sp(sen)\n",
        "  descriptive_item = ''\n",
        "  target = ''\n",
        "  for token in important:\n",
        "    if token.dep_ == 'nsubj' and token.pos_ == 'NOUN':\n",
        "      target = token.text\n",
        "    if token.pos_ == 'ADJ':\n",
        "      added_terms = ''\n",
        "      for mini_token in token.children:\n",
        "        if mini_token.pos_ != 'ADV':\n",
        "          continue\n",
        "        added_terms += mini_token.text + ' '\n",
        "      descriptive_item = added_terms + token.text\n",
        "  ext_aspects.append({'aspect': target,\n",
        "    'description': descriptive_item})\n",
        "\n",
        "print(\"ASPECT EXTRACTION\\n\")\n",
        "print(ext_aspects)\n",
        "for aspect in ext_aspects:\n",
        "  aspect['sentiment'] = TextBlob(aspect['description']).sentiment\n",
        "\n",
        "print(\"\\n\")\n",
        "print(\"SENTIMENT ASSOCIATION\\n\")\n",
        "print(ext_aspects)"
      ]
    }
  ]
}