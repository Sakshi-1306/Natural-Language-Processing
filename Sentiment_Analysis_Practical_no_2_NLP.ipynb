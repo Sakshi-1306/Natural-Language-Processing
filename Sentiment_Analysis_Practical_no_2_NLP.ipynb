{
  "nbformat": 4,
  "nbformat_minor": 0,
  "metadata": {
    "colab": {
      "provenance": [],
      "authorship_tag": "ABX9TyOSJ1oZ8lExROnNw+FTaj1b",
      "include_colab_link": true
    },
    "kernelspec": {
      "name": "python3",
      "display_name": "Python 3"
    },
    "language_info": {
      "name": "python"
    }
  },
  "cells": [
    {
      "cell_type": "markdown",
      "metadata": {
        "id": "view-in-github",
        "colab_type": "text"
      },
      "source": [
        "<a href=\"https://colab.research.google.com/github/Sakshi-1306/Natural-Language-Processing/blob/master/Sentiment_Analysis_Practical_no_2_NLP.ipynb\" target=\"_parent\"><img src=\"https://colab.research.google.com/assets/colab-badge.svg\" alt=\"Open In Colab\"/></a>"
      ]
    },
    {
      "cell_type": "code",
      "execution_count": null,
      "metadata": {
        "colab": {
          "base_uri": "https://localhost:8080/"
        },
        "id": "nhUMxsLbuXfA",
        "outputId": "1cd6b5cd-03cd-4a9d-8805-c9dbf833dc94"
      },
      "outputs": [
        {
          "output_type": "stream",
          "name": "stdout",
          "text": [
            "Sentiment(polarity=1.0, subjectivity=1.0)\n"
          ]
        }
      ],
      "source": [
        "from textblob import TextBlob\n",
        "input = \"Today I am very happy.\"\n",
        "sent = TextBlob(input)\n",
        "print(sent.sentiment)"
      ]
    },
    {
      "cell_type": "code",
      "source": [
        "input = \"But yesterday I was sad.\"\n",
        "sent = TextBlob(input)\n",
        "print(sent.sentiment)"
      ],
      "metadata": {
        "colab": {
          "base_uri": "https://localhost:8080/"
        },
        "id": "8YPOIu_-vAj2",
        "outputId": "10233578-e497-4e4c-88a1-043c0d48ea79"
      },
      "execution_count": null,
      "outputs": [
        {
          "output_type": "stream",
          "name": "stdout",
          "text": [
            "Sentiment(polarity=-0.5, subjectivity=1.0)\n"
          ]
        }
      ]
    },
    {
      "cell_type": "markdown",
      "source": [
        "Polarity is the output that lies between [-1,1], where -1 refers to negative sentiment and +1 refers to positive sentiment. Subjectivity is the output that lies within [0,1] and refers to personal opinions and judgments.\n"
      ],
      "metadata": {
        "id": "Py12dw11vvwq"
      }
    },
    {
      "cell_type": "code",
      "source": [],
      "metadata": {
        "id": "RSrRLhMcvkcn"
      },
      "execution_count": null,
      "outputs": []
    }
  ]
}