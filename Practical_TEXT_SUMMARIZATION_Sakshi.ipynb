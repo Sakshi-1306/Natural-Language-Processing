{
  "nbformat": 4,
  "nbformat_minor": 0,
  "metadata": {
    "colab": {
      "provenance": [],
      "authorship_tag": "ABX9TyMl3XQUfDlSWTN9kxQMk19+",
      "include_colab_link": true
    },
    "kernelspec": {
      "name": "python3",
      "display_name": "Python 3"
    },
    "language_info": {
      "name": "python"
    }
  },
  "cells": [
    {
      "cell_type": "markdown",
      "metadata": {
        "id": "view-in-github",
        "colab_type": "text"
      },
      "source": [
        "<a href=\"https://colab.research.google.com/github/Sakshi-1306/Natural-Language-Processing/blob/master/Practical_TEXT_SUMMARIZATION_Sakshi.ipynb\" target=\"_parent\"><img src=\"https://colab.research.google.com/assets/colab-badge.svg\" alt=\"Open In Colab\"/></a>"
      ]
    },
    {
      "cell_type": "code",
      "execution_count": 1,
      "metadata": {
        "id": "zL1l8zMDIxl_"
      },
      "outputs": [],
      "source": [
        "#importing libraries\n",
        "import nltk\n",
        "from nltk.corpus import stopwords\n",
        "from nltk.tokenize import word_tokenize, sent_tokenize"
      ]
    },
    {
      "cell_type": "code",
      "source": [
        "nltk.download('stopwords')\n",
        "nltk.download('punkt')"
      ],
      "metadata": {
        "colab": {
          "base_uri": "https://localhost:8080/"
        },
        "id": "Vp08IYAyOplU",
        "outputId": "fb620855-beb4-4b9b-801c-46d32bb26796"
      },
      "execution_count": 2,
      "outputs": [
        {
          "output_type": "stream",
          "name": "stderr",
          "text": [
            "[nltk_data] Downloading package stopwords to /root/nltk_data...\n",
            "[nltk_data]   Unzipping corpora/stopwords.zip.\n",
            "[nltk_data] Downloading package punkt to /root/nltk_data...\n",
            "[nltk_data]   Unzipping tokenizers/punkt.zip.\n"
          ]
        },
        {
          "output_type": "execute_result",
          "data": {
            "text/plain": [
              "True"
            ]
          },
          "metadata": {},
          "execution_count": 2
        }
      ]
    },
    {
      "cell_type": "code",
      "source": [
        "#Give the input text to summrize\n",
        "text = \"Text summarization is the process of generating short, fluent, and most importantly accurate summary of a respectively longer text document. The main idea behind automatic text summarization is to be able to find a short subset of the most essential information from the entire set and present it in a human-readable format. As online textual data grows, automatic text summarization methods have the potential to be very helpful because more useful information can be read in a short time.\""
      ],
      "metadata": {
        "id": "j_mXGxNJPAPR"
      },
      "execution_count": 3,
      "outputs": []
    },
    {
      "cell_type": "code",
      "source": [
        "#length of text\n",
        "len(text)"
      ],
      "metadata": {
        "colab": {
          "base_uri": "https://localhost:8080/"
        },
        "id": "zc_Z7buWPVdz",
        "outputId": "7ce58070-2ccb-4570-a57b-ea1725578485"
      },
      "execution_count": 4,
      "outputs": [
        {
          "output_type": "execute_result",
          "data": {
            "text/plain": [
              "490"
            ]
          },
          "metadata": {},
          "execution_count": 4
        }
      ]
    },
    {
      "cell_type": "code",
      "source": [
        "#Tokentize the text\n",
        "stopwords = set(stopwords.words('english'))\n",
        "words = word_tokenize(text)"
      ],
      "metadata": {
        "id": "oWpjRXMuPd9w"
      },
      "execution_count": 5,
      "outputs": []
    },
    {
      "cell_type": "code",
      "source": [
        "#create a frequency table to keep the score of each word\n",
        "freqTable = dict()\n",
        "for word in words:\n",
        "  word = word.lower()\n",
        "  if word in stopwords:\n",
        "    continue\n",
        "  if word in freqTable:\n",
        "    freqTable[word] += 1\n",
        "  else:\n",
        "    freqTable[word] = 1"
      ],
      "metadata": {
        "id": "rkrvilbnP7Ky"
      },
      "execution_count": 6,
      "outputs": []
    },
    {
      "cell_type": "code",
      "source": [
        "#Creating the dict to keep of each sentence\n",
        "sentences = sent_tokenize(text)\n",
        "sentencevalue = dict()\n",
        "#print(sentencevalue)"
      ],
      "metadata": {
        "id": "LUXugEAHQleB"
      },
      "execution_count": 7,
      "outputs": []
    },
    {
      "cell_type": "code",
      "source": [
        "#sentences\n",
        "for sentence in sentences:\n",
        "  for word, freq in freqTable.items():\n",
        "    if word in sentence.lower():\n",
        "      if sentence in sentencevalue:\n",
        "        sentencevalue[sentence] += freq\n",
        "      else:\n",
        "        sentencevalue[sentence] = freq\n"
      ],
      "metadata": {
        "id": "5mlzmYALRgBP"
      },
      "execution_count": 8,
      "outputs": []
    },
    {
      "cell_type": "code",
      "source": [
        "sumvalues = 0\n",
        "print(\"sentencevalue : \",sentencevalue)\n",
        "for sentence in sentencevalue:\n",
        "  sumvalues += sentencevalue[sentence]\n",
        "  #print(sumvalues)\n",
        "  print(\"sentencevalue : \",sentencevalue)\n",
        "  #print(len(sentencevalue))"
      ],
      "metadata": {
        "colab": {
          "base_uri": "https://localhost:8080/"
        },
        "id": "n9OG28iuTS5F",
        "outputId": "7f94d97f-8043-4e48-dd3f-1b2559d4e25c"
      },
      "execution_count": 9,
      "outputs": [
        {
          "output_type": "stream",
          "name": "stdout",
          "text": [
            "sentencevalue :  {'Text summarization is the process of generating short, fluent, and most importantly accurate summary of a respectively longer text document.': 25, 'The main idea behind automatic text summarization is to be able to find a short subset of the most essential information from the entire set and present it in a human-readable format.': 30, 'As online textual data grows, automatic text summarization methods have the potential to be very helpful because more useful information can be read in a short time.': 31}\n",
            "sentencevalue :  {'Text summarization is the process of generating short, fluent, and most importantly accurate summary of a respectively longer text document.': 25, 'The main idea behind automatic text summarization is to be able to find a short subset of the most essential information from the entire set and present it in a human-readable format.': 30, 'As online textual data grows, automatic text summarization methods have the potential to be very helpful because more useful information can be read in a short time.': 31}\n",
            "sentencevalue :  {'Text summarization is the process of generating short, fluent, and most importantly accurate summary of a respectively longer text document.': 25, 'The main idea behind automatic text summarization is to be able to find a short subset of the most essential information from the entire set and present it in a human-readable format.': 30, 'As online textual data grows, automatic text summarization methods have the potential to be very helpful because more useful information can be read in a short time.': 31}\n",
            "sentencevalue :  {'Text summarization is the process of generating short, fluent, and most importantly accurate summary of a respectively longer text document.': 25, 'The main idea behind automatic text summarization is to be able to find a short subset of the most essential information from the entire set and present it in a human-readable format.': 30, 'As online textual data grows, automatic text summarization methods have the potential to be very helpful because more useful information can be read in a short time.': 31}\n"
          ]
        }
      ]
    },
    {
      "cell_type": "code",
      "source": [
        "average = int(sumvalues / len(sentencevalue))\n",
        "#print(average)"
      ],
      "metadata": {
        "id": "1t2oec5WVM4D"
      },
      "execution_count": 10,
      "outputs": []
    },
    {
      "cell_type": "code",
      "source": [
        "#storing sentences into our summary\n",
        "summary = \" \"\n",
        "for sentence in sentences:\n",
        "  if (sentence in sentencevalue) and (sentencevalue[sentence] > (0.9 * average)):\n",
        "    summary += \" \" + sentence\n",
        "print(summary)\n"
      ],
      "metadata": {
        "colab": {
          "base_uri": "https://localhost:8080/"
        },
        "id": "wgWFiOIeWWEh",
        "outputId": "f98442c8-fb12-4dc7-a1db-3f9c364244d3"
      },
      "execution_count": 11,
      "outputs": [
        {
          "output_type": "stream",
          "name": "stdout",
          "text": [
            "  The main idea behind automatic text summarization is to be able to find a short subset of the most essential information from the entire set and present it in a human-readable format. As online textual data grows, automatic text summarization methods have the potential to be very helpful because more useful information can be read in a short time.\n"
          ]
        }
      ]
    },
    {
      "cell_type": "code",
      "source": [
        "len(summary)"
      ],
      "metadata": {
        "colab": {
          "base_uri": "https://localhost:8080/"
        },
        "id": "UHSC3QUVXgaP",
        "outputId": "a55c4577-d6f9-47e5-cc23-f91b0633902a"
      },
      "execution_count": 12,
      "outputs": [
        {
          "output_type": "execute_result",
          "data": {
            "text/plain": [
              "351"
            ]
          },
          "metadata": {},
          "execution_count": 12
        }
      ]
    }
  ]
}