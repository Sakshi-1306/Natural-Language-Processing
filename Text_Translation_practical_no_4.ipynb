{
  "nbformat": 4,
  "nbformat_minor": 0,
  "metadata": {
    "colab": {
      "provenance": [],
      "authorship_tag": "ABX9TyORc4d1/QGiuUF4DNgvFVOa",
      "include_colab_link": true
    },
    "kernelspec": {
      "name": "python3",
      "display_name": "Python 3"
    },
    "language_info": {
      "name": "python"
    }
  },
  "cells": [
    {
      "cell_type": "markdown",
      "metadata": {
        "id": "view-in-github",
        "colab_type": "text"
      },
      "source": [
        "<a href=\"https://colab.research.google.com/github/Sakshi-1306/Natural-Language-Processing/blob/master/Text_Translation_practical_no_4.ipynb\" target=\"_parent\"><img src=\"https://colab.research.google.com/assets/colab-badge.svg\" alt=\"Open In Colab\"/></a>"
      ]
    },
    {
      "cell_type": "code",
      "execution_count": null,
      "metadata": {
        "colab": {
          "base_uri": "https://localhost:8080/"
        },
        "id": "GTLwhNKFLkFf",
        "outputId": "3367c5f9-a5d8-4f4f-9446-90582af63b47"
      },
      "outputs": [
        {
          "output_type": "stream",
          "name": "stdout",
          "text": [
            "Requirement already satisfied: translate in /usr/local/lib/python3.10/dist-packages (3.6.1)\n",
            "Requirement already satisfied: click in /usr/local/lib/python3.10/dist-packages (from translate) (8.1.7)\n",
            "Requirement already satisfied: lxml in /usr/local/lib/python3.10/dist-packages (from translate) (4.9.3)\n",
            "Requirement already satisfied: requests in /usr/local/lib/python3.10/dist-packages (from translate) (2.31.0)\n",
            "Requirement already satisfied: libretranslatepy==2.1.1 in /usr/local/lib/python3.10/dist-packages (from translate) (2.1.1)\n",
            "Requirement already satisfied: charset-normalizer<4,>=2 in /usr/local/lib/python3.10/dist-packages (from requests->translate) (3.3.1)\n",
            "Requirement already satisfied: idna<4,>=2.5 in /usr/local/lib/python3.10/dist-packages (from requests->translate) (3.4)\n",
            "Requirement already satisfied: urllib3<3,>=1.21.1 in /usr/local/lib/python3.10/dist-packages (from requests->translate) (2.0.7)\n",
            "Requirement already satisfied: certifi>=2017.4.17 in /usr/local/lib/python3.10/dist-packages (from requests->translate) (2023.7.22)\n"
          ]
        }
      ],
      "source": [
        "!pip install translate\n",
        "from translate import Translator\n"
      ]
    },
    {
      "cell_type": "code",
      "source": [
        "translator  = Translator(to_lang=\"Marathi\")\n",
        "x = \"Can We go out tonight\"\n",
        "translation = translator.translate(x)\n",
        "print(translation)"
      ],
      "metadata": {
        "colab": {
          "base_uri": "https://localhost:8080/"
        },
        "id": "vmycECJjMmjk",
        "outputId": "851e4f37-36e3-4a78-e83d-03f1da8b19e4"
      },
      "execution_count": null,
      "outputs": [
        {
          "output_type": "stream",
          "name": "stdout",
          "text": [
            "आपण तिथे जाऊ शकतो का?\n"
          ]
        }
      ]
    },
    {
      "cell_type": "code",
      "source": [
        "translator  = Translator(from_lang =\"english\" , to_lang=\"spanish\")\n",
        "x = \"I Love You\"\n",
        "translation = translator.translate(x)\n",
        "print(translation)\n"
      ],
      "metadata": {
        "colab": {
          "base_uri": "https://localhost:8080/"
        },
        "id": "EYvsu5SZNf0j",
        "outputId": "0d4fb0da-321c-4f54-ba5f-f81aa5800728"
      },
      "execution_count": null,
      "outputs": [
        {
          "output_type": "stream",
          "name": "stdout",
          "text": [
            "Te Amo\n"
          ]
        }
      ]
    },
    {
      "cell_type": "code",
      "source": [
        "translator  = Translator(from_lang =\"spanish\" , to_lang=\"english\")\n",
        "y = \" no quiero\"\n",
        "translation = translator.translate(y)\n",
        "print(translation)"
      ],
      "metadata": {
        "colab": {
          "base_uri": "https://localhost:8080/"
        },
        "id": "8GlHmk93Oj3B",
        "outputId": "2d1edb61-3095-4e19-ffd7-eb13ae3ae2a9"
      },
      "execution_count": null,
      "outputs": [
        {
          "output_type": "stream",
          "name": "stdout",
          "text": [
            "I do not want\n"
          ]
        }
      ]
    },
    {
      "cell_type": "code",
      "source": [
        "!pip install deep_translator"
      ],
      "metadata": {
        "colab": {
          "base_uri": "https://localhost:8080/"
        },
        "id": "wXQGPSBLQHhH",
        "outputId": "0e73ed6e-8688-43fc-f7db-120e602f30f8"
      },
      "execution_count": null,
      "outputs": [
        {
          "output_type": "stream",
          "name": "stdout",
          "text": [
            "Collecting deep_translator\n",
            "  Downloading deep_translator-1.11.4-py3-none-any.whl (42 kB)\n",
            "\u001b[?25l     \u001b[90m━━━━━━━━━━━━━━━━━━━━━━━━━━━━━━━━━━━━━━━━\u001b[0m \u001b[32m0.0/42.3 kB\u001b[0m \u001b[31m?\u001b[0m eta \u001b[36m-:--:--\u001b[0m\r\u001b[2K     \u001b[90m━━━━━━━━━━━━━━━━━━━━━━━━━━━━━━━━━━━━━━━━\u001b[0m \u001b[32m42.3/42.3 kB\u001b[0m \u001b[31m1.5 MB/s\u001b[0m eta \u001b[36m0:00:00\u001b[0m\n",
            "\u001b[?25hRequirement already satisfied: beautifulsoup4<5.0.0,>=4.9.1 in /usr/local/lib/python3.10/dist-packages (from deep_translator) (4.11.2)\n",
            "Requirement already satisfied: requests<3.0.0,>=2.23.0 in /usr/local/lib/python3.10/dist-packages (from deep_translator) (2.31.0)\n",
            "Requirement already satisfied: soupsieve>1.2 in /usr/local/lib/python3.10/dist-packages (from beautifulsoup4<5.0.0,>=4.9.1->deep_translator) (2.5)\n",
            "Requirement already satisfied: charset-normalizer<4,>=2 in /usr/local/lib/python3.10/dist-packages (from requests<3.0.0,>=2.23.0->deep_translator) (3.3.1)\n",
            "Requirement already satisfied: idna<4,>=2.5 in /usr/local/lib/python3.10/dist-packages (from requests<3.0.0,>=2.23.0->deep_translator) (3.4)\n",
            "Requirement already satisfied: urllib3<3,>=1.21.1 in /usr/local/lib/python3.10/dist-packages (from requests<3.0.0,>=2.23.0->deep_translator) (2.0.7)\n",
            "Requirement already satisfied: certifi>=2017.4.17 in /usr/local/lib/python3.10/dist-packages (from requests<3.0.0,>=2.23.0->deep_translator) (2023.7.22)\n",
            "Installing collected packages: deep_translator\n",
            "Successfully installed deep_translator-1.11.4\n"
          ]
        }
      ]
    },
    {
      "cell_type": "code",
      "source": [
        "\n",
        "from deep_translator import LingueeTranslator\n",
        "word = \"Love\"\n",
        "translated_word = LingueeTranslator(source = 'english', target='french').translate(word)\n",
        "print(translated_word)\n",
        "translated_word = LingueeTranslator(source = 'english', target='french').translate(word, return_all = True)\n",
        "print(translated_word)"
      ],
      "metadata": {
        "colab": {
          "base_uri": "https://localhost:8080/"
        },
        "id": "VN1v7HECQ2LD",
        "outputId": "8bfcd414-d35a-4fcf-893f-ef9dad496bf7"
      },
      "execution_count": null,
      "outputs": [
        {
          "output_type": "stream",
          "name": "stdout",
          "text": [
            "d'amour\n",
            "[\"d'amour\", 'amour', 'aimer', 'adorer', 'coil', 'curl up', 'coil']\n"
          ]
        }
      ]
    },
    {
      "cell_type": "code",
      "source": [
        "from deep_translator import GoogleTranslator\n",
        "to_translate = \"I want you\"\n",
        "translated = GoogleTranslator(source='auto',target='de').translate(to_translate)\n",
        "print(translated)"
      ],
      "metadata": {
        "colab": {
          "base_uri": "https://localhost:8080/"
        },
        "id": "MVCuppVGRqRM",
        "outputId": "6249d8e5-7abf-4051-e18f-5c62606f3b16"
      },
      "execution_count": null,
      "outputs": [
        {
          "output_type": "stream",
          "name": "stdout",
          "text": [
            "ich will dich\n"
          ]
        }
      ]
    },
    {
      "cell_type": "code",
      "source": [
        "from deep_translator import PonsTranslator\n",
        "word = \"good\"\n",
        "translated = PonsTranslator(source='english',target='french').translate(word , return_all=False)\n",
        "print(translated)\n",
        "word = \"good\"\n",
        "translated = PonsTranslator(source='english',target='french').translate(word , return_all=True)\n",
        "print(translated)\n"
      ],
      "metadata": {
        "colab": {
          "base_uri": "https://localhost:8080/"
        },
        "id": "A_kakMaZTMS5",
        "outputId": "86eb1d6d-5cb2-4d0f-c207-c599a79f5a4e"
      },
      "execution_count": null,
      "outputs": [
        {
          "output_type": "stream",
          "name": "stdout",
          "text": [
            "bien\n",
            "['bien', 'le bien et le mal', 'faire le bien', 'mijoter qc', 'mal tourner', 'bien', 'pour le bien de la société', \"c'est pour ton bien\", \"pour le peu de bien que ça m'a fait\", 'grand bien lui fasse', 'elle est trop généreuse et ça lui jouera des tours', 'pour sa santé', \"tu crois que ça m'amuse de faire ça\", \"ça n'a pas arrangé ma migraine\", \"une grève n'arrangera pas les affaires de l'entreprise\", 'la pluie fait du bien aux plantes', 'ça te fera du bien de dormir', \"rien de bon n'en sortira\", 'attendre ne changera rien', 'être pour le mieux', 'ça ne sert rien de pleurer', \"ça ne sert rien je n'y arrive pas\", \"est-ce qu'une vidange servirait quelque chose\", 'quoi cela me servirait-il', 'ces livres ne me servent plus rien', 'avoir 20 livres sterling son crédit', 'les bons', 'articles', 'marchandise', 'articles de cuir', 'appareils électroménagers', 'biens de consommation et services', 'marchandises', 'de marchandises', 'affaires', 'biens', 'biens et effets personnels', \"répondre l'attente\", \"c'est parfait\", 'bon bonne', 'réussi', 'le beau temps', 'les bons moments', \"bien s'amuser\", \"tout le monde s'est amusé\", 'amusez-vous bien', 'bonne journée', \"les petits plaisirs de l'existence\", 'la dolce vita', 'je suis content de vous revoir', 'au bon vieux temps', 'être content de de faire', \"je suis content quand j'aide les autres\", \"je n'étais pas très fier de lui avoir menti\", 'bon bonne', 'bon bonne', 'tu as mauvaise mine', 'je ne me sens pas très bien', \"'Comment ça va ' 'Ça va bien '\", 'bon bonne', 'beau belle', 'avec mention after', 'je ne suis pas assez bien pour elle', \"rien n'est trop beau pour son fils\", 'bon bonne', 'sage', 'bon bonne', \"c'est bien\", 'bon bonne', \"ce qui est bien c'est que\", 'New York est un bon endroit pour faire les magasins', 'beau belle', 'beau belle', 'aller bien avec', 'le bleu cette robe lui va bien', 'une belle silhouette', 'bon bonne', 'avoir bon goût', 'sentir bon', \"avoir l'air bon\", \"cette tourte l'air bonne\", 'vertueux', 'bon bonne', 'les bons', 'gentil', 'une bonne action', 'rendre service qn', 'auriez-vous la gentillesse de faire', 'fermez la porte vous serez gentil', 'mon brave', 'comment va madame votre épouse', 'bon bonne', 'être de bonne humeur', 'se montrer très compréhensif au sujet de', 'ce bon vieux Richard', \"il n'y rien de tel que la bonne vieille cire d'abeille\", 'bon bonne', 'elle nage bien', 'être bon en', 'être bon', 'elle danse dessine bien', 'être nul nulle en', 'être nul nulle', \"je ne sais pas tricoter chanter m'excuser\", \"savoir comment s'y prendre avec\", 'aimer', 'être habile de ses mains', 'savoir manier la langue', 'tu es doué pour énerver les gens', \"il était bien dans le rôle d'Hamlet\", 'faire du bien', 'être bon pour', 'être bon pour', \"l'exercice fait du bien\", \"il mange plus qu'il ne devrait\", 'si je peux te donner un conseil ne dis rien', 'bon bonne for doing pour faire', \"faire de l'effet\", 'cela fera bien sur votre CV', 'bon bonne for pour', 'il parle bien espagnol', 'son anglais est bon', 'cette nouvelle loi est une bonne chose', 'heureusement que', 'tant mieux', \"les affaires n'ont jamais été aussi prospères\", \"l'industrie n'a jamais été aussi prospère\", \"c'est trop beau pour être vrai\", 'bon bonne', 'bonne question', 'tout fait', 'bon bonne', \"cette carte d'abonnement est valable encore deux mois\", 'il sera encore là dans 20 ans', 'la voiture fera encore 10 000 km', \"c'est une raison comme une autre\", \"avoir de l'argent prêter\", 'bon bonne', 'être très précis', 'bon bonne', 'bon bonne', 'ça doit valoir au moins 000 dollars', 'il au moins 20 ans', 'un matelas bien épais', 'une bonne balade discussion', 'de très bonne heure', 'bon bonne', 'nettoie-le bien', 'on bien ri regardé', 'le Neptune', 'quasiment', 'le match est quasiment perdu', 'être comme neuf neuve', \"c'est comme si tu disais oui lui donnais carte blanche\", \"il m'a plus ou moins traité de menteur\", 'pour toujours', \"c'est bien\", 'tant mieux', 'très bien', 'très bien', 'bravo', 'tant mieux pour toi', 'elle est bonne celle-là', 'bravo', 'bien vu', \"tout s'est bien terminé\", 'être pris en flagrant délit', 'être sur un bon filon', 'il ne faut pas abuser des bonnes choses', 'puits', \"tirer son eau d'un puits\", 'source', 'cage', 'barreau', 'se sentir bien', 'vous allez bien tu vas bien', 'je vais très bien merci', \"elle n'est pas en état de voyager\", 'il des problèmes de santé', \"les gens qui se portent bien n'ont pas besoin de médecin\", \"elle n'a pas l'air en forme du tout\", 'se rétablir', 'rétablis-toi vite', '‘comment va-t-il ’—‘pas trop mal étant donné les circonstances’', 'bien', 'tout va bien', \"elle commençait craindre qu'il eût un problème\", 'il des problèmes dans leur mariage', \"j'espère que tout va bien pour vous\", 'si tout va bien je serai la maison avant six heures', \"tout ça c'est bien beau or joli mais\", \"c'est bien beau or joli de faire la grève mais\", 'tu peux rire mais', \"tant mieux pour lui mais certains d'entre nous doivent gagner leur vie\", \"si tu penses que tu peux te débrouiller tout seul c'est très bien\", 'il vaudrait mieux vérifier', \"tu ferais mieux de ne pas t'en mêler\", \"il vaudrait mieux téléphoner d'abord ce serait peut-être aussi bien de téléphoner d'abord\", 'il eu de la chance que les magasins étaient encore ouverts', \"c'est aussi bien que tu n'aies pas faim parce que je n'ai rien acheté manger\", \"le vol été retardé ce qui n'était pas plus mal\", 'bien', 'bien travailler', 'bien marcher', 'ces ciseaux coupent bien', 'il ne mange pas beaucoup', 'elle joue du piano aussi bien que sa sœur', 'ce garçon ira loin', \"il n'a pas réussi aussi bien qu'il aurait pu\", 'je me suis bien débrouillé pour les questions de culture générale', 'être bon bonne élève', \"la mère et l'enfant se portent bien\", \"l'opération s'est bien passée\", 'tu as bien fait de me le dire', 'il ferait bien de se rappeler que', \"on aura de la chance si on arrive l'heure\", 'si tout va bien', \"tout allait bien jusqu'à ce que\", 'bravo', 'bien joué', \"il s'en tire très bien depuis qu'il travaille son compte\", 'bien se soigner', 'se montrer généreux avec qn', 'leur affaire de vente par correspondance marche très bien', \"certains hommes d'affaires se sont enrichis pendant la guerre\", \"elle ne s'en est pas très bien sortie\", \"ce n'était pas très flatteur pour elle\", 'comme je ne le sais que trop bien', 'il est assez grand pour se débrouiller tout seul', 'il se pourrait bien que tu aies raison', \"il se pourrait bien que j'y aille je pourrais bien aller\", 'il est bien possible que le concert soit annulé', \"je veux bien le croire je n'ai pas de mal le croire\", 'il se pourrait bien que', 'il est bien possible que', 'je pouvais difficilement dire non', 'je me le demande bien alors ça si je le savais', 'on aurait aussi bien fait de rester la maison', 'on ferait aussi bien de rentrer', \"on est en droit de se demander pourquoi la police n'a pas été informée\", '‘est-ce que je ferme la porte ’—‘pourquoi pas’', \"il proposé de payer pour les dégâts c'était la moindre des choses\", \"elle eu l'air choquée ce qui n'avait rien d'étonnant\", \"nous n'avons pas paniqué alors qu'il avait de quoi\", 'bien largement', 'être bien au-dessus de la vitesse autorisée avoir largement dépassé la vitesse autorisée', 'elle bien plus de 30 ans', 'elle fait largement 30 ans', 'il avait largement plus de cent personnes', 'la maison bien plus de cent ans', 'le musée mérite vraiment la visite', \"ça valait vraiment la peine d'attendre\", 'le temps est resté au beau fixe pendant une bonne partie du mois de septembre', 'elle était toujours active même au-delà de ses quatre-vingts ans', 'les températures dépassent largement vingt degrés', 'les bénéfices sont nettement supérieurs inférieurs la moyenne', \"tenez-vous bien l'écart du bord du trottoir\", \"la maison est située bien l'écart de la route\", 'il était bien après minuit', \"ça s'est prolongé bien au-delà de minuit\", 'la soirée continué tard dans la nuit', 'dire penser du bien de qn', 'souhaiter beaucoup de chance qn', 'je vous souhaite bien du plaisir', 'aussi', 'aussi bien que', 'est-ce que Tom vient aussi', 'tu sais aussi bien que moi pourquoi il est parti', \"il étudie la fois l'italien et le français\", \"j'ai travaillé samedi et dimanche\", \"ils ont une maison la campagne ainsi qu'un appartement Paris\", 'de jour comme de nuit', \"c'était d'enfer\", 'eh bien', 'ça alors', 'tant pis', 'bon', 'enfin', 'eh bien qui aurait pu croire ça', 'eh bien je crois', \"bon or d'accord ce que tu dis est peut-être vrai mais\", 'après tout tu as peut-être raison', 'bon comme je disais', \"c'est vraiment dommage\", 'alors quel est le problème', 'ils sont déjà partis tant pis', \"ma foi je n'y peux rien\", \"ma parole c'est ma tante Violet\", 'alors comme ça tu pars aux États-Unis', 'il faisait beau enfin beau pour un mois de mars', \"‘il dit qu'il se tuerait’—‘eh bien or et alors est-ce qu'il l'a fait\", 'très bien', 'tout est bien qui finit bien', 'être bien avec qn', \"s'y connaître en qc\", \"ne pas s'en mêler\", \"moi ta place je ne m'en mêlerais pas\", \"heureusement que tu n'as plus rien voir avec ça\", 'bel et bien', 'bel et bien fini perdu', 'endimanché', 'parieur', 'le la meilleur', 'de loin le la meilleur des deux', 'mériter attendre espérer mieux', 'tant mieux', 'une amélioration', \"s'améliorer\", 'le temps changé et pas en mieux', 'ses supérieurs', 'meilleur', 'mieux', \"jouer c'est mieux que de regarder\", \"s'améliorer\", \"le temps n'est pas meilleur or ne s'est pas amélioré\", 'ça va mieux', '‘bonnes nouvelles ’—‘on ne peut meilleures', 'être sonner mieux', 'être sentir meilleur avoir un meilleur goût odeur', 'ce serait meilleur avec du sel', \"cela n'en était que mieux\", 'voilà qui est mieux', 'aller mieux', 'se sentir mieux après', \"mieux qu'avant\", 'meilleur', 'se sentir mieux', 'je me sentirais mieux si tu faisais ne faisais pas', \"si ça t'aide te sentir mieux\", 'si ça peut te consoler', 'se sentir même de faire', 'avoir moins de scrupules faire', 'meilleur', 'mieux', 'meilleur mieux', 'de meilleure qualité', 'une des meilleures écoles', 'il est allé dans une école meilleure que la mienne', 'mieux', 'meilleur', 'être meilleur que', 'tu es meilleur que moi', 'ne pas être mieux que qn', 'être un voleur ni plus ni moins', 'meilleur', 'être meilleur poète que qn', 'nager mieux que qn', \"chanter mieux que l'on ne danse\", 'être meilleur père que mari', 'être meilleur en', 'faire mieux', \"il ne conduit pas mieux qu'elle\", 'meilleur', 'être meilleur pour', 'être mieux pour faire', 'être mieux que rien', 'mieux vaut un travail mi-temps que pas de travail', 'le plus grand vite possible', 'plus tu travailles vite mieux ça vaudra', 'mieux vaut ne pas parler de ça', 'qui mieux pourrait jouer le rôle', 'quel meilleur endroit moyen pour faire…', 'meilleur', 'nager est meilleur pour la santé que courir', 'meilleur', 'pour mieux voir', 'être plus ressemblant', 'mieux', 'aller se comporter mieux que', 'mieux fait organisé que', 'avoir une meilleure opinion de qn', 'plus sage cultivé', 'avoir meilleur caractère de meilleures manières', 'réussir mieux', 'faire mieux', 'aller mieux', '‘pourrait or peut mieux faire’', 'pour mieux voir entendre', 'plus elle parlait mieux je comprenais', 'mieux', \"ça n'aurait pas pu mieux tomber\", \"il vaudrait mieux dépenser l'argent en\", 'il vaut mieux le laisser seul', 'tu serais mieux avisé de faire', 'tu ferais mieux de faire', 'tu ferais mieux de faire', 'tu as intérêt faire', \"je ferais mieux de m'en aller\", \"‘est-ce qu'elle viendra ’—‘elle intérêt\", '‘est-ce que ça sera ouvert ’—‘il intérêt', '‘encore du gâteau ’—‘non merci’', '‘est-ce que je viens ’—‘il vaut mieux pas’', 'ou mieux', 'améliorer', 'faire mieux que', 'offrir un meilleur prix que qn', 'améliorer', 'améliorer sa condition', 'advienne que pourra', 'pour le meilleur et pour le pire', 'triompher de vaincre', 'sa curiosité pris le dessus', \"le problème l'a dépassée\", 'faire encore mieux than que', \"changer d'avis\", 'le la meilleur', \"cette histoire c'est la meilleure\", \"c'est le nord du pays qui profitera du beau temps\", \"je pense que le beau temps est fini pour aujourd'hui\", 'être le mieux', 'avoir le meilleur son sonner le mieux', 'être le la meilleur', 'avoir la meilleure odeur', 'le la meilleur', 'le meilleur qui soit', 'le meilleur du genre', \"ce n'est pas le la meilleur qu'elle ait écrit\", \"je veux ce qu'il de mieux pour moi mon fils\", 'seul le meilleur peut lui convenir', 'le la meilleur', \"c'est l'une des meilleures\", 'être le la meilleur en', 'qui dessine nage le mieux', 'le la meilleur', \"c'est le meilleur que j'aie\", \"c'est la meilleure solution\", \"c'est tant mieux\", 'faire qc pour le mieux', \"ce n'est pas le meilleur moment pour faire\", 'le mieux', \"le mieux qu'on puisse espérer dire\", 'au mieux', \"j'ai déjà du mal le faire\", 'déjà en temps ordinaire il est difficile vivre', \"s'accommoder de qc\", 'être parfait', 'être le la plus beau belle', \"c'est ce que l'art moderne peut produire de mieux\", 'être au mieux de sa forme', \"c'est quand les circonstances sont difficiles qu'elle montre de quoi elle est capable\", 'exceller dans la poésie dans les rôles de méchants', \"c'est Eliot dans ce qu'elle fait de meilleur\", \"ce n'était pas du meilleur goût\", 'les meilleurs amis du monde', 'faire de son mieux or faire tout son possible pour faire', \"c'est le mieux que tu puisses que la voiture puisse faire\", 'obtenir le meilleur de', 'tirer le meilleur parti de', 'inciter qn donner le meilleur de lui-même', \"le mieux c'est que\", \"le plus beau c'est que\", 'avoir la part du lion dans', 'gagner dans', 'garder or réserver qc pour les grandes occasions', 'meilleurs vœux', 'amitiés', 'transmets-lui mes meilleurs vœux or amitiés', 'bonne chance', 'ta santé', 'amitiés Ellie', 'meilleurs vœux de bonheur pour votre retraite', 'au meilleur des trois cinq', 'jouer au meilleur des trois', \"c'est au meilleur des cinq\", 'meilleur', \"le meilleur livre que j'aie jamais lu écrit\", \"la meilleure idée qu'elle ait eue de la journée\", 'le meilleur hôtel de la ville', \"ce qu'il de mieux dans qc lorsqu'on fait\", \"l'un des plus grands avantages de qc lorsqu'on fait\", 'être le mieux', 'avoir le meilleur son sonner le mieux', 'être le la meilleur', 'avoir la meilleure odeur', 'ce vin est parfait si on le sert frais', \"c'est en noir qu'elle est le mieux\", \"c'est elle qui parle le mieux français\", \"elle l'a dit dans son meilleur français\", 'dans ta plus belle écriture', 'ma plus belle robe', 'mes plus beaux draps', '‘à consommer de préférence avant fin mai’', 'meilleur', 'le prix du meilleur acteur', 'qui nage le mieux', 'être le la meilleur en', 'être le la meilleur', 'cuisiner le mieux', 'la meilleure mère dont on puisse rêver', 'que le meilleur gagne', 'meilleur', 'pour couper du papier ceux-ci sont le mieux', \"c'est pour couper du papier et non pas du tissu qu'ils conviennent le mieux\", 'cela convient mieux aux enfants plus âgés', 'la personne qui convient le mieux pour ce travail', 'la meilleure chose faire', 'le mieux serait de faire', \"le mieux serait qu'il fasse\", 'meilleur', 'réfléchir ce qui est le mieux pour qn', 'le mieux', 'se comporter aller entendre le mieux', 'le mieux nourri qualifié organisé', 'la personne la mieux organisée', 'le plus préparé équipé aimé', 'la femme la plus aimée', 'le tennis est mon sport préferé', 'la rose est ma fleur préferée', 'aimer qc mieux or plus que tout', 'mieux que tout', \"c'est seul qu'il travaille le mieux\", 'réussir le mieux', 'qui le mieux réussi', 'faire qc de son mieux', 'tu ferais mieux de faire', 'il vaut mieux ignorer suivre de tels conseils', \"c'est toi le meilleur juge\", 'avoir le dessus sur', 'battre vaincre', 'avoir le dessous dans une discussion', 'faire qc avec tout un chacun', 'ça arrive tout le monde', \"c'est notre lot tous\", 'détendu', 'amical', 'innocent', 'plaisant', 'être de bonne humeur', 'avoir bon caractère', 'plaisamment', 'avec bonne humeur', 'gentiment', 'facile', 'qui bon caractère', 'amical', 'spacieux', 'de bonne taille', 'plaisamment', 'bonnes pratiques', 'agréable facile', 'qui bon caractère', 'détendu', 'amical', 'bien intentionné', 'bonjour', 'au revoir', 'faussement rassurant', 'le gouvernement essaie de créer un sentiment de bien-être illusoire']\n"
          ]
        }
      ]
    },
    {
      "cell_type": "code",
      "source": [],
      "metadata": {
        "id": "SnFyeGp6TxC1"
      },
      "execution_count": null,
      "outputs": []
    }
  ]
}