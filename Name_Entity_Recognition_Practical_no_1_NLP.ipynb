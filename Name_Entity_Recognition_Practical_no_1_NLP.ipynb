{
  "cells": [
    {
      "cell_type": "markdown",
      "metadata": {
        "id": "view-in-github",
        "colab_type": "text"
      },
      "source": [
        "<a href=\"https://colab.research.google.com/github/Sakshi-1306/Natural-Language-Processing/blob/master/Name_Entity_Recognition_Practical_no_1_NLP.ipynb\" target=\"_parent\"><img src=\"https://colab.research.google.com/assets/colab-badge.svg\" alt=\"Open In Colab\"/></a>"
      ]
    },
    {
      "cell_type": "code",
      "source": [
        "import spacy\n",
        "from spacy import displacy\n",
        "nlp=spacy.load(\"en_core_web_sm\")\n",
        "nlp.pipe_names\n",
        "doc=nlp(\"Tesla Inc is going to acquire Twitter Inc for $45 billion\")\n",
        "print(type(doc))\n",
        "#Tokenization\n",
        "for token in doc:\n",
        "  print(token.text)\n",
        "\n"
      ],
      "metadata": {
        "id": "Uw_0Sga4fOwV",
        "outputId": "dc51d1ce-dae3-4dae-a81b-5ac2b3aed7d9",
        "colab": {
          "base_uri": "https://localhost:8080/"
        }
      },
      "execution_count": 1,
      "outputs": [
        {
          "output_type": "stream",
          "name": "stdout",
          "text": [
            "<class 'spacy.tokens.doc.Doc'>\n",
            "Tesla\n",
            "Inc\n",
            "is\n",
            "going\n",
            "to\n",
            "acquire\n",
            "Twitter\n",
            "Inc\n",
            "for\n",
            "$\n",
            "45\n",
            "billion\n"
          ]
        }
      ]
    },
    {
      "cell_type": "code",
      "source": [
        "for token in doc:\n",
        "  print(token.text , token.is_stop)"
      ],
      "metadata": {
        "colab": {
          "base_uri": "https://localhost:8080/"
        },
        "id": "I8iahUjcr85z",
        "outputId": "da301383-ed71-4b44-a72e-017969b6dce0"
      },
      "execution_count": null,
      "outputs": [
        {
          "output_type": "stream",
          "name": "stdout",
          "text": [
            "Tesla False\n",
            "Inc False\n",
            "is True\n",
            "going False\n",
            "to True\n",
            "acquire False\n",
            "Twitter False\n",
            "Inc False\n",
            "for True\n",
            "$ False\n",
            "45 False\n",
            "billion False\n"
          ]
        }
      ]
    },
    {
      "cell_type": "code",
      "source": [
        "for token in doc:\n",
        "  if not token.is_stop:\n",
        "    print(token.text , end = \" \")"
      ],
      "metadata": {
        "colab": {
          "base_uri": "https://localhost:8080/"
        },
        "id": "dDstUHs_sSQM",
        "outputId": "de30fc91-4d03-41fb-c8db-4f53ee9a57c0"
      },
      "execution_count": null,
      "outputs": [
        {
          "output_type": "stream",
          "name": "stdout",
          "text": [
            "Tesla Inc going acquire Twitter Inc $ 45 billion "
          ]
        }
      ]
    },
    {
      "cell_type": "code",
      "source": [
        "for token in doc.ents:\n",
        "  print(token.text , token.label_)"
      ],
      "metadata": {
        "colab": {
          "base_uri": "https://localhost:8080/"
        },
        "id": "lXXBm4EfknPe",
        "outputId": "74eb2e59-69a6-4a04-e7f3-6b4464f93798"
      },
      "execution_count": null,
      "outputs": [
        {
          "output_type": "stream",
          "name": "stdout",
          "text": [
            "Tesla Inc ORG\n",
            "Twitter Inc ORG\n",
            "$45 billion MONEY\n"
          ]
        }
      ]
    },
    {
      "cell_type": "code",
      "source": [
        "spacy.explain(\"MONEY\")\n",
        "#spacy.explain(\"ORG\")"
      ],
      "metadata": {
        "colab": {
          "base_uri": "https://localhost:8080/",
          "height": 36
        },
        "id": "EFf9_6hBlmX2",
        "outputId": "66664665-dd6f-4c03-d2bf-958291bcbe45"
      },
      "execution_count": null,
      "outputs": [
        {
          "output_type": "execute_result",
          "data": {
            "text/plain": [
              "'Monetary values, including unit'"
            ],
            "application/vnd.google.colaboratory.intrinsic+json": {
              "type": "string"
            }
          },
          "metadata": {},
          "execution_count": 36
        }
      ]
    },
    {
      "cell_type": "code",
      "source": [
        "for ent in doc.ents:\n",
        "   print(ent.text,\"|\",ent.label_,\"|\",spacy.explain(ent.label_))\n"
      ],
      "metadata": {
        "colab": {
          "base_uri": "https://localhost:8080/"
        },
        "id": "-02n-TkArZtw",
        "outputId": "6506f638-9e1b-4e4e-ef5e-9fcbe8cb1af5"
      },
      "execution_count": null,
      "outputs": [
        {
          "output_type": "stream",
          "name": "stdout",
          "text": [
            "Tesla Inc | ORG | Companies, agencies, institutions, etc.\n",
            "Twitter Inc | ORG | Companies, agencies, institutions, etc.\n",
            "$45 billion | MONEY | Monetary values, including unit\n"
          ]
        }
      ]
    },
    {
      "cell_type": "code",
      "source": [],
      "metadata": {
        "id": "hKsv82scrufD"
      },
      "execution_count": null,
      "outputs": []
    }
  ],
  "metadata": {
    "colab": {
      "provenance": [],
      "include_colab_link": true
    },
    "kernelspec": {
      "display_name": "Python 3",
      "name": "python3"
    }
  },
  "nbformat": 4,
  "nbformat_minor": 0
}